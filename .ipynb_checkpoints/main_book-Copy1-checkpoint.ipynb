{
 "cells": [
  {
   "cell_type": "code",
   "execution_count": 22,
   "id": "57c3fd12-bc16-4528-bfb3-2dea91c1fe54",
   "metadata": {},
   "outputs": [],
   "source": [
    "import pandas as pd\n",
    "import numpy as np"
   ]
  },
  {
   "cell_type": "code",
   "execution_count": 23,
   "id": "10bc251f-a0d4-4e2d-8ae9-1fb5b6421ced",
   "metadata": {},
   "outputs": [],
   "source": [
    "id_SubFed = [0, 1, 2, 3, 4, 5, 6, 7, 8, 9, 10, 11, 12, 13]\n",
    "group = [\n",
    "    'Численность должностей муниципальной службы',\n",
    "    'Численность должностей, не отнесенных к должностям муниципальной службы'\n",
    "]\n",
    "status = [\n",
    "    'Всего',\n",
    "    'замещено',\n",
    "    'количество лиц, находящихся в отпуске по уходу за ребенком'\n",
    "]\n",
    "m_id = pd.MultiIndex.from_product([id_SubFed, group, status], names = ['id_SubFed', 'group', 'status'])"
   ]
  },
  {
   "cell_type": "code",
   "execution_count": 24,
   "id": "e352483a-83de-4627-957f-afb5ac6e9b05",
   "metadata": {
    "scrolled": true
   },
   "outputs": [],
   "source": [
    "df = pd.read_excel('2021.xls', sheet_name='1.2. Кол-во МС', header = None)\n",
    "df = df.iloc[6:20, 6:14]\n",
    "df = df.drop([9,13], axis = 1)\n",
    "df = df.stack().reset_index(drop=True).to_frame()\n",
    "df = df.set_axis(m_id, axis = 0)\n",
    "df = df.rename(columns={0:'value'})\n",
    "df.insert(0, 'year', 2021)"
   ]
  },
  {
   "cell_type": "code",
   "execution_count": 25,
   "id": "4779950d-dc30-4ef5-abe5-4b492ff9f2be",
   "metadata": {},
   "outputs": [],
   "source": [
    "df.to_csv('test2.csv', sep=';')"
   ]
  }
 ],
 "metadata": {
  "kernelspec": {
   "display_name": "Python 3 (ipykernel)",
   "language": "python",
   "name": "python3"
  },
  "language_info": {
   "codemirror_mode": {
    "name": "ipython",
    "version": 3
   },
   "file_extension": ".py",
   "mimetype": "text/x-python",
   "name": "python",
   "nbconvert_exporter": "python",
   "pygments_lexer": "ipython3",
   "version": "3.13.0"
  }
 },
 "nbformat": 4,
 "nbformat_minor": 5
}
